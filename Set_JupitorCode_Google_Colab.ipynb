{
  "nbformat": 4,
  "nbformat_minor": 0,
  "metadata": {
    "colab": {
      "provenance": [],
      "authorship_tag": "ABX9TyPRJ/Kt/MGzI+Yik9Lr1ooi"
    },
    "kernelspec": {
      "name": "python3",
      "display_name": "Python 3"
    },
    "language_info": {
      "name": "python"
    }
  },
  "cells": [
    {
      "cell_type": "code",
      "execution_count": null,
      "metadata": {
        "colab": {
          "base_uri": "https://localhost:8080/"
        },
        "id": "Doe_jG7LBrBo",
        "outputId": "388e845c-5c5f-4979-c048-2545bfe979fa"
      },
      "outputs": [
        {
          "output_type": "stream",
          "name": "stdout",
          "text": [
            "{1, 2, 3.5, (2+2j), 'name'}\n"
          ]
        }
      ],
      "source": [
        "set = {1,2,3.5, \"name\",2+2j}\n",
        "print(set)"
      ]
    },
    {
      "cell_type": "code",
      "source": [],
      "metadata": {
        "id": "jahJlpDpB9pB"
      },
      "execution_count": null,
      "outputs": []
    }
  ]
}